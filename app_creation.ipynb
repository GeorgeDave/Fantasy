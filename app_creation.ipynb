{
 "cells": [
  {
   "cell_type": "code",
   "execution_count": null,
   "metadata": {},
   "outputs": [],
   "source": [
    "# This file is for creating the user interface, importing the data needed, and displaying details\n",
    "\n",
    "import tkinter as tk"
   ]
  },
  {
   "cell_type": "code",
   "execution_count": null,
   "metadata": {},
   "outputs": [],
   "source": [
    "\n",
    "window = tk.Tk()\n",
    "# ... widgets added here\n",
    "current_player = tk.StringVar()\n",
    "\n",
    "window.title(\"Trident Drafting Software\")\n",
    "\n",
    "# Creating player input box\n",
    "tk.Label(window, text=\"Player: \").grid(row=0)\n",
    "player_in = tk.Entry(window, textvariable=current_player)\n",
    "player_in.grid(row=0, column=1)\n",
    "\n",
    "\n",
    "# Creating lists to display\n",
    "window.mainloop()"
   ]
  }
 ],
 "metadata": {
  "language_info": {
   "name": "python"
  },
  "orig_nbformat": 4
 },
 "nbformat": 4,
 "nbformat_minor": 2
}
